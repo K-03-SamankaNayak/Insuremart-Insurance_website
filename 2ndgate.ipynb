import math

def get_permutation_at_rank(rank, length):
    alphabet = list("abcdefghijklmnopqrstuvwxyz")
    result = []
    rank -= 1  # 0-based index

    for i in range(length):
        fact = math.factorial(len(alphabet) - 1)
        index = rank // fact
        result.append(alphabet[index])
        alphabet.pop(index)
        rank %= fact

    return ''.join(result)

# Input handling
R = int(input())
N = int(input())
print(get_permutation_at_rank(R, N))
